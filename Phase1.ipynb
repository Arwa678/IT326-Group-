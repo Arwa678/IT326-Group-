{
  "nbformat": 4,
  "nbformat_minor": 0,
  "metadata": {
    "colab": {
      "provenance": [],
      "include_colab_link": true
    },
    "kernelspec": {
      "name": "python3",
      "display_name": "Python 3"
    },
    "language_info": {
      "name": "python"
    }
  },
  "cells": [
    {
      "cell_type": "markdown",
      "metadata": {
        "id": "view-in-github",
        "colab_type": "text"
      },
      "source": [
        "<a href=\"https://colab.research.google.com/github/Arwa678/IT326-Group-3/blob/main/Phase1.ipynb\" target=\"_parent\"><img src=\"https://colab.research.google.com/assets/colab-badge.svg\" alt=\"Open In Colab\"/></a>"
      ]
    },
    {
      "cell_type": "markdown",
      "source": [
        "# About the project\n",
        "In our project, we chose the **Heart Health dataset** because heart disease is one of the leading causes of death worldwide.\n",
        "Understanding the factors that contribute to heart disease is crucial for prevention. The dataset provides important information such as\n",
        "age, gender, blood pressure, cholesterol levels, and other health-related factors which are key indicators of heart health.\n",
        "\n",
        "By analyzing this data, we hope to identify patterns and risk factors that can help predict heart disease.\n",
        "This could be valuable for healthcare professionals in developing strategies to prevent heart disease and improve patient care.\n",
        "Our goal is to contribute to better heart health by using data to spot trends and offer insights into managing heart disease risk."
      ],
      "metadata": {
        "id": "VtlZe5pRglT0"
      }
    },
    {
      "cell_type": "markdown",
      "source": [
        "## Dataset Source:\n",
        "The Heart Health dataset is provided for research and analysis to better understand the risk factors contributing to heart disease.\n",
        "\n",
        "link: https://www.kaggle.com/datasets/kamilpytlak/personal-key-indicators-of-heart-disease?resource=download\n",
        "\n",
        "## Goal:\n",
        "The goal of this dataset is to predict the likelihood of a heart attack based on various health metrics, including blood pressure, cholesterol, glucose levels# smoking habits, and exercise patterns. This analysis will aid in early detection and prevention strategies for heart disease."
      ],
      "metadata": {
        "id": "Daz571KTg1CO"
      }
    },
    {
      "cell_type": "markdown",
      "source": [
        "## Class label\n",
        "The class label \"HadHeartAttack\" is a binary variable indicating whether a respondent has experienced a heart attack. It is categorized as \"Yes\" if the respondent had heart disease and \"No\" if the respondent did not have heart disease. This label is crucial for classification tasks aimed at identifying individuals at risk of heart disease."
      ],
      "metadata": {
        "id": "pxh0RIWdg4-R"
      }
    },
    {
      "cell_type": "code",
      "execution_count": null,
      "metadata": {
        "id": "AASvbNgzFLFW",
        "colab": {
          "base_uri": "https://localhost:8080/"
        },
        "collapsed": true,
        "outputId": "06f0f89b-262d-42a9-bebb-3baee7457bd0"
      },
      "outputs": [
        {
          "output_type": "stream",
          "name": "stdout",
          "text": [
            "                 State     Sex GeneralHealth  PhysicalHealthDays  \\\n",
            "0              Alabama  Female     Very good                 0.0   \n",
            "1              Alabama  Female     Excellent                 0.0   \n",
            "2              Alabama  Female     Very good                 2.0   \n",
            "3              Alabama  Female     Excellent                 0.0   \n",
            "4              Alabama  Female          Fair                 2.0   \n",
            "...                ...     ...           ...                 ...   \n",
            "445127  Virgin Islands  Female          Good                 0.0   \n",
            "445128  Virgin Islands  Female     Excellent                 2.0   \n",
            "445129  Virgin Islands  Female          Poor                30.0   \n",
            "445130  Virgin Islands    Male     Very good                 0.0   \n",
            "445131  Virgin Islands    Male     Very good                 0.0   \n",
            "\n",
            "        MentalHealthDays                                    LastCheckupTime  \\\n",
            "0                    0.0  Within past year (anytime less than 12 months ...   \n",
            "1                    0.0                                                NaN   \n",
            "2                    3.0  Within past year (anytime less than 12 months ...   \n",
            "3                    0.0  Within past year (anytime less than 12 months ...   \n",
            "4                    0.0  Within past year (anytime less than 12 months ...   \n",
            "...                  ...                                                ...   \n",
            "445127               3.0  Within past 2 years (1 year but less than 2 ye...   \n",
            "445128               2.0  Within past year (anytime less than 12 months ...   \n",
            "445129              30.0                                5 or more years ago   \n",
            "445130               0.0  Within past year (anytime less than 12 months ...   \n",
            "445131               1.0                                                NaN   \n",
            "\n",
            "       PhysicalActivities  SleepHours  RemovedTeeth HadHeartAttack  ...  \\\n",
            "0                      No         8.0           NaN             No  ...   \n",
            "1                      No         6.0           NaN             No  ...   \n",
            "2                     Yes         5.0           NaN             No  ...   \n",
            "3                     Yes         7.0           NaN             No  ...   \n",
            "4                     Yes         9.0           NaN             No  ...   \n",
            "...                   ...         ...           ...            ...  ...   \n",
            "445127                Yes         6.0  None of them             No  ...   \n",
            "445128                Yes         7.0  None of them             No  ...   \n",
            "445129                 No         5.0        1 to 5             No  ...   \n",
            "445130                 No         5.0  None of them            Yes  ...   \n",
            "445131                Yes         5.0  None of them             No  ...   \n",
            "\n",
            "       HeightInMeters WeightInKilograms    BMI AlcoholDrinkers HIVTesting  \\\n",
            "0                 NaN               NaN    NaN              No         No   \n",
            "1                1.60             68.04  26.57              No         No   \n",
            "2                1.57             63.50  25.61              No         No   \n",
            "3                1.65             63.50  23.30              No         No   \n",
            "4                1.57             53.98  21.77             Yes         No   \n",
            "...               ...               ...    ...             ...        ...   \n",
            "445127           1.65             69.85  25.63             NaN        Yes   \n",
            "445128           1.70             83.01  28.66              No        Yes   \n",
            "445129           1.70             49.90  17.23             NaN         No   \n",
            "445130           1.83            108.86  32.55              No        Yes   \n",
            "445131           1.68             63.50  22.60             Yes         No   \n",
            "\n",
            "       FluVaxLast12 PneumoVaxEver  \\\n",
            "0               Yes            No   \n",
            "1                No            No   \n",
            "2                No            No   \n",
            "3               Yes           Yes   \n",
            "4                No           Yes   \n",
            "...             ...           ...   \n",
            "445127           No            No   \n",
            "445128          Yes            No   \n",
            "445129           No            No   \n",
            "445130          Yes           Yes   \n",
            "445131           No            No   \n",
            "\n",
            "                                        TetanusLast10Tdap HighRiskLastYear  \\\n",
            "0       Yes, received tetanus shot but not sure what type               No   \n",
            "1       No, did not receive any tetanus shot in the pa...               No   \n",
            "2                                                     NaN               No   \n",
            "3       No, did not receive any tetanus shot in the pa...               No   \n",
            "4       No, did not receive any tetanus shot in the pa...               No   \n",
            "...                                                   ...              ...   \n",
            "445127  No, did not receive any tetanus shot in the pa...               No   \n",
            "445128  Yes, received tetanus shot but not sure what type               No   \n",
            "445129  No, did not receive any tetanus shot in the pa...               No   \n",
            "445130  No, did not receive any tetanus shot in the pa...               No   \n",
            "445131  Yes, received tetanus shot but not sure what type               No   \n",
            "\n",
            "       CovidPos  \n",
            "0            No  \n",
            "1            No  \n",
            "2           Yes  \n",
            "3            No  \n",
            "4            No  \n",
            "...         ...  \n",
            "445127      Yes  \n",
            "445128       No  \n",
            "445129       No  \n",
            "445130      Yes  \n",
            "445131       No  \n",
            "\n",
            "[445132 rows x 40 columns]\n"
          ]
        }
      ],
      "source": [
        "import pandas as pd\n",
        "import matplotlib.pyplot as plt\n",
        "df = pd.read_csv('/content/heart_2022_with_nans.csv')\n",
        "df1 = pd.DataFrame(df)\n",
        "print(df1)"
      ]
    },
    {
      "cell_type": "code",
      "source": [
        "class_label = df['HadHeartAttack']\n",
        "df = df.drop(columns=['HadHeartAttack'])\n",
        "df['HadHeartAttack'] = class_label"
      ],
      "metadata": {
        "id": "lK6OD4TiaiR4"
      },
      "execution_count": null,
      "outputs": []
    },
    {
      "cell_type": "code",
      "source": [
        "# Convert invalid values to NaN\n",
        "df['PhysicalHealthDays'] = pd.to_numeric(df['PhysicalHealthDays'], errors='coerce')\n",
        "df['MentalHealthDays'] = pd.to_numeric(df['MentalHealthDays'], errors='coerce')\n",
        "df['RemovedTeeth'] = pd.to_numeric(df['RemovedTeeth'], errors='coerce')  # This step handles NaN values\n",
        "\n",
        "# Now apply the astype conversion for all columns\n",
        "df = df.astype({'State': 'string', 'Sex': 'string', 'GeneralHealth': 'string',\n",
        "    'PhysicalHealthDays': 'Int64',  # Use Int64 to handle NaN values for integers\n",
        "    'MentalHealthDays': 'Int64',    # Use Int64 for nullable integers\n",
        "    'RemovedTeeth': 'Int64',        # Use Int64 for nullable integers\n",
        "    'LastCheckupTime': 'string', 'PhysicalActivities': 'bool', 'SleepHours': 'float',\n",
        "    'HadHeartAttack': 'bool', 'HadAngina': 'bool', 'HadStroke': 'bool', 'HadAsthma': 'bool',\n",
        "    'HadSkinCancer': 'bool', 'HadCOPD': 'bool', 'HadDepressiveDisorder': 'bool',\n",
        "    'HadKidneyDisease': 'bool', 'HadArthritis': 'bool', 'HadDiabetes': 'bool',\n",
        "    'DeafOrHardOfHearing': 'bool', 'BlindOrVisionDifficulty': 'bool',\n",
        "    'DifficultyConcentrating': 'bool', 'DifficultyWalking': 'bool',\n",
        "    'DifficultyDressingBathing': 'bool', 'DifficultyErrands': 'bool',\n",
        "    'SmokerStatus': 'string', 'ECigaretteUsage': 'bool', 'ChestScan': 'bool',\n",
        "    'RaceEthnicityCategory': 'string', 'AgeCategory': 'string', 'HeightInMeters': 'float',\n",
        "    'WeightInKilograms': 'float', 'BMI': 'float', 'AlcoholDrinkers': 'bool',\n",
        "    'HIVTesting': 'bool', 'FluVaxLast12': 'bool', 'PneumoVaxEver': 'bool',\n",
        "    'TetanusLast10Tdap': 'bool', 'HighRiskLastYear': 'bool', 'CovidPos': 'bool'})\n"
      ],
      "metadata": {
        "id": "ZS1DH8YvT575"
      },
      "execution_count": null,
      "outputs": []
    },
    {
      "cell_type": "markdown",
      "source": [
        "the code bellow shows the types of each attribute"
      ],
      "metadata": {
        "id": "tI98HMSsj0GP"
      }
    },
    {
      "cell_type": "code",
      "source": [
        "print(df.dtypes)"
      ],
      "metadata": {
        "colab": {
          "base_uri": "https://localhost:8080/"
        },
        "id": "QlFSr50CNj3Z",
        "outputId": "8f18dc02-72b1-4155-d92e-9fe1581188f4"
      },
      "execution_count": null,
      "outputs": [
        {
          "output_type": "stream",
          "name": "stdout",
          "text": [
            "State                        string[python]\n",
            "Sex                          string[python]\n",
            "GeneralHealth                string[python]\n",
            "PhysicalHealthDays                    Int64\n",
            "MentalHealthDays                      Int64\n",
            "LastCheckupTime              string[python]\n",
            "PhysicalActivities                     bool\n",
            "SleepHours                          float64\n",
            "RemovedTeeth                          Int64\n",
            "HadAngina                              bool\n",
            "HadStroke                              bool\n",
            "HadAsthma                              bool\n",
            "HadSkinCancer                          bool\n",
            "HadCOPD                                bool\n",
            "HadDepressiveDisorder                  bool\n",
            "HadKidneyDisease                       bool\n",
            "HadArthritis                           bool\n",
            "HadDiabetes                            bool\n",
            "DeafOrHardOfHearing                    bool\n",
            "BlindOrVisionDifficulty                bool\n",
            "DifficultyConcentrating                bool\n",
            "DifficultyWalking                      bool\n",
            "DifficultyDressingBathing              bool\n",
            "DifficultyErrands                      bool\n",
            "SmokerStatus                 string[python]\n",
            "ECigaretteUsage                        bool\n",
            "ChestScan                              bool\n",
            "RaceEthnicityCategory        string[python]\n",
            "AgeCategory                  string[python]\n",
            "HeightInMeters                      float64\n",
            "WeightInKilograms                   float64\n",
            "BMI                                 float64\n",
            "AlcoholDrinkers                        bool\n",
            "HIVTesting                             bool\n",
            "FluVaxLast12                           bool\n",
            "PneumoVaxEver                          bool\n",
            "TetanusLast10Tdap                      bool\n",
            "HighRiskLastYear                       bool\n",
            "CovidPos                               bool\n",
            "HadHeartAttack                         bool\n",
            "dtype: object\n"
          ]
        }
      ]
    },
    {
      "cell_type": "code",
      "source": [
        "df.info()"
      ],
      "metadata": {
        "colab": {
          "base_uri": "https://localhost:8080/"
        },
        "id": "stqkMKnvb8Z7",
        "outputId": "13b3afd8-65be-420f-a321-d4f616bcb2f5"
      },
      "execution_count": null,
      "outputs": [
        {
          "output_type": "stream",
          "name": "stdout",
          "text": [
            "<class 'pandas.core.frame.DataFrame'>\n",
            "RangeIndex: 445132 entries, 0 to 445131\n",
            "Data columns (total 40 columns):\n",
            " #   Column                     Non-Null Count   Dtype  \n",
            "---  ------                     --------------   -----  \n",
            " 0   State                      445132 non-null  string \n",
            " 1   Sex                        445132 non-null  string \n",
            " 2   GeneralHealth              443934 non-null  string \n",
            " 3   PhysicalHealthDays         434205 non-null  Int64  \n",
            " 4   MentalHealthDays           436065 non-null  Int64  \n",
            " 5   LastCheckupTime            436824 non-null  string \n",
            " 6   PhysicalActivities         445132 non-null  bool   \n",
            " 7   SleepHours                 439679 non-null  float64\n",
            " 8   RemovedTeeth               0 non-null       Int64  \n",
            " 9   HadAngina                  445132 non-null  bool   \n",
            " 10  HadStroke                  445132 non-null  bool   \n",
            " 11  HadAsthma                  445132 non-null  bool   \n",
            " 12  HadSkinCancer              445132 non-null  bool   \n",
            " 13  HadCOPD                    445132 non-null  bool   \n",
            " 14  HadDepressiveDisorder      445132 non-null  bool   \n",
            " 15  HadKidneyDisease           445132 non-null  bool   \n",
            " 16  HadArthritis               445132 non-null  bool   \n",
            " 17  HadDiabetes                445132 non-null  bool   \n",
            " 18  DeafOrHardOfHearing        445132 non-null  bool   \n",
            " 19  BlindOrVisionDifficulty    445132 non-null  bool   \n",
            " 20  DifficultyConcentrating    445132 non-null  bool   \n",
            " 21  DifficultyWalking          445132 non-null  bool   \n",
            " 22  DifficultyDressingBathing  445132 non-null  bool   \n",
            " 23  DifficultyErrands          445132 non-null  bool   \n",
            " 24  SmokerStatus               409670 non-null  string \n",
            " 25  ECigaretteUsage            445132 non-null  bool   \n",
            " 26  ChestScan                  445132 non-null  bool   \n",
            " 27  RaceEthnicityCategory      431075 non-null  string \n",
            " 28  AgeCategory                436053 non-null  string \n",
            " 29  HeightInMeters             416480 non-null  float64\n",
            " 30  WeightInKilograms          403054 non-null  float64\n",
            " 31  BMI                        396326 non-null  float64\n",
            " 32  AlcoholDrinkers            445132 non-null  bool   \n",
            " 33  HIVTesting                 445132 non-null  bool   \n",
            " 34  FluVaxLast12               445132 non-null  bool   \n",
            " 35  PneumoVaxEver              445132 non-null  bool   \n",
            " 36  TetanusLast10Tdap          445132 non-null  bool   \n",
            " 37  HighRiskLastYear           445132 non-null  bool   \n",
            " 38  CovidPos                   445132 non-null  bool   \n",
            " 39  HadHeartAttack             445132 non-null  bool   \n",
            "dtypes: Int64(3), bool(26), float64(4), string(7)\n",
            "memory usage: 59.9 MB\n"
          ]
        }
      ]
    },
    {
      "cell_type": "markdown",
      "source": [
        "the code below lists all the attributes of the dataset"
      ],
      "metadata": {
        "id": "e_Q6kgYpkJiu"
      }
    },
    {
      "cell_type": "code",
      "source": [
        "col_name = df1.columns\n",
        "print(col_name)"
      ],
      "metadata": {
        "colab": {
          "base_uri": "https://localhost:8080/"
        },
        "id": "NNFMQAXfL17W",
        "outputId": "2bc43174-dafd-41ae-c1a3-68fbd73cb6b5"
      },
      "execution_count": null,
      "outputs": [
        {
          "output_type": "stream",
          "name": "stdout",
          "text": [
            "Index(['State', 'Sex', 'GeneralHealth', 'PhysicalHealthDays',\n",
            "       'MentalHealthDays', 'LastCheckupTime', 'PhysicalActivities',\n",
            "       'SleepHours', 'RemovedTeeth', 'HadHeartAttack', 'HadAngina',\n",
            "       'HadStroke', 'HadAsthma', 'HadSkinCancer', 'HadCOPD',\n",
            "       'HadDepressiveDisorder', 'HadKidneyDisease', 'HadArthritis',\n",
            "       'HadDiabetes', 'DeafOrHardOfHearing', 'BlindOrVisionDifficulty',\n",
            "       'DifficultyConcentrating', 'DifficultyWalking',\n",
            "       'DifficultyDressingBathing', 'DifficultyErrands', 'SmokerStatus',\n",
            "       'ECigaretteUsage', 'ChestScan', 'RaceEthnicityCategory', 'AgeCategory',\n",
            "       'HeightInMeters', 'WeightInKilograms', 'BMI', 'AlcoholDrinkers',\n",
            "       'HIVTesting', 'FluVaxLast12', 'PneumoVaxEver', 'TetanusLast10Tdap',\n",
            "       'HighRiskLastYear', 'CovidPos'],\n",
            "      dtype='object')\n"
          ]
        }
      ]
    },
    {
      "cell_type": "markdown",
      "source": [
        "our dataset contains 445132 samples and 40 attributes"
      ],
      "metadata": {
        "id": "go37TtAjkbeL"
      }
    },
    {
      "cell_type": "code",
      "source": [
        "col = df1.columns\n",
        "print('Number of attributes :',len(col))"
      ],
      "metadata": {
        "colab": {
          "base_uri": "https://localhost:8080/"
        },
        "id": "ts05N2oAK3n7",
        "outputId": "58dde809-e6ed-4760-b35e-de2160109aff"
      },
      "execution_count": null,
      "outputs": [
        {
          "output_type": "stream",
          "name": "stdout",
          "text": [
            "Number of attributes : 40\n"
          ]
        }
      ]
    },
    {
      "cell_type": "code",
      "source": [
        "num_of_rows = len(df1)\n",
        "print('Number of samples :',num_of_rows)"
      ],
      "metadata": {
        "colab": {
          "base_uri": "https://localhost:8080/"
        },
        "id": "d5ztNhCEHIic",
        "outputId": "f2f25331-b66f-4797-aff1-8fa27f0e563d"
      },
      "execution_count": null,
      "outputs": [
        {
          "output_type": "stream",
          "name": "stdout",
          "text": [
            "Number of samples : 445132\n"
          ]
        }
      ]
    }
  ]
}